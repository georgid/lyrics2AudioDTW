{
 "metadata": {
  "name": "",
  "signature": "sha256:6098b6f2aeb65fa8b93d388e94017aee7669df001dcfe8828fd8987450018774"
 },
 "nbformat": 3,
 "nbformat_minor": 0,
 "worksheets": [
  {
   "cells": [
    {
     "cell_type": "code",
     "collapsed": false,
     "input": [
      "import csv\n",
      "URI_pathXBegins = '/Users/joro/Documents/Phd/UPF/voxforge/myScripts/lyrics_magic/queryByLyricsVsLyrics/pathsXBegins.tsv'\n",
      "URI_pathXEnds = '/Users/joro/Documents/Phd/UPF/voxforge/myScripts/lyrics_magic/queryByLyricsVsLyrics/pathsXEnds.tsv'\n",
      "\n",
      "with open(URI_pathXBegins, 'rb') as f:\n",
      "    reader = csv.reader(f)\n",
      "    XBegins = list(reader)\n",
      "\n",
      "with open(URI_pathXEnds, 'rb') as f:\n",
      "    reader = csv.reader(f)\n",
      "    XEnds = list(reader)\n",
      "\n",
      "pathXs = list(); \n",
      "for pathX in zip(XBegins[0],XEnds[0]):\n",
      "    pathXs.append( (int(pathX[0]),int(pathX[1])) );\n",
      "\n",
      "\n",
      "# sort     \n",
      "pathXsSorted = sorted(pathXs,key=lambda x: x[1])\n",
      "print pathXsSorted\n",
      "    \n",
      " "
     ],
     "language": "python",
     "metadata": {},
     "outputs": [
      {
       "output_type": "stream",
       "stream": "stdout",
       "text": [
        "[(2528, 3323), (2528, 3332), (2528, 3341), (2528, 3350), (2528, 3359), (2528, 3368), (2528, 3383), (2528, 3392), (2528, 3401), (2528, 3410), (2528, 3419), (2528, 3428), (4830, 5424), (4830, 5433), (4830, 5442), (4830, 5451), (4830, 5461), (4830, 5473), (4830, 5486), (4830, 5499), (4830, 5508), (4830, 5517), (4830, 5526), (4830, 5565), (4830, 5574), (4830, 5583), (8540, 9190), (8540, 9199), (8540, 9208), (11097, 11655)]\n"
       ]
      }
     ],
     "prompt_number": 47
    },
    {
     "cell_type": "code",
     "collapsed": false,
     "input": [
      "def updateMinMaxSegment(currPath, currSegment):\n",
      "    if currPath[0] < currSegment[0] or currSegment[0] == None:\n",
      "        currSegment[0]  = currPath[0]\n",
      "    if currSegment[1] > currSegment[0] or currSegment[1] == None:\n",
      "        currSegment[1]  = currPath[1]"
     ],
     "language": "python",
     "metadata": {},
     "outputs": [],
     "prompt_number": 46
    },
    {
     "cell_type": "code",
     "collapsed": false,
     "input": [
      "# segment\n",
      "allSegments = []\n",
      "currSegment = [None] * 2\n",
      "\n",
      "for i in range(len(pathXsSorted)-1):\n",
      "    updateMinMaxSegment(pathXsSorted[i], currSegment)\n",
      "    \n",
      "    # end of path is not overlapping with  start of next path\n",
      "    if pathXsSorted[i][1] < pathXsSorted[i+1][0]:\n",
      "        allSegments.append(currSegment)\n",
      "        currSegment = [None] * 2\n",
      "\n",
      "\n",
      "\n",
      "        "
     ],
     "language": "python",
     "metadata": {},
     "outputs": [],
     "prompt_number": 49
    },
    {
     "cell_type": "code",
     "collapsed": false,
     "input": [
      "updateMinMaxSegment(pathXsSorted[i+1], currSegment)\n",
      "        \n",
      "allSegments.append(currSegment)"
     ],
     "language": "python",
     "metadata": {},
     "outputs": [],
     "prompt_number": 50
    },
    {
     "cell_type": "code",
     "collapsed": false,
     "input": [
      "URI_candidateSegmentsTs = '/Users/joro/Documents/Phd/UPF/voxforge/myScripts/lyrics_magic/queryByLyricsVsLyrics/candSegmentsTs.csv'\n",
      "with open(URI_candidateSegmentsTs , 'w') as f:\n",
      "    writer = csv.writer(f)    \n",
      "    for segment in allSegments:\n",
      "        writer.writerow(segment)"
     ],
     "language": "python",
     "metadata": {},
     "outputs": [],
     "prompt_number": 55
    },
    {
     "cell_type": "code",
     "collapsed": false,
     "input": [
      "a = [None] * 10"
     ],
     "language": "python",
     "metadata": {},
     "outputs": [],
     "prompt_number": 31
    },
    {
     "cell_type": "code",
     "collapsed": false,
     "input": [
      "a"
     ],
     "language": "python",
     "metadata": {},
     "outputs": [
      {
       "metadata": {},
       "output_type": "pyout",
       "prompt_number": 32,
       "text": [
        "[None, None, None, None, None, None, None, None, None, None]"
       ]
      }
     ],
     "prompt_number": 32
    },
    {
     "cell_type": "code",
     "collapsed": false,
     "input": [],
     "language": "python",
     "metadata": {},
     "outputs": []
    }
   ],
   "metadata": {}
  }
 ]
}
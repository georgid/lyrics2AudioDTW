{
 "metadata": {
  "name": "",
  "signature": "sha256:94e0c09dad0b087dec6f197096bb65dc583292dab3bdeb9ae932699ca0835f58"
 },
 "nbformat": 3,
 "nbformat_minor": 0,
 "worksheets": []
}
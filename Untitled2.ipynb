{
 "metadata": {
  "name": "",
  "signature": "sha256:772de14f4936d6576d7c5ea7bcac1ccff0cbd42e0edf0a8f66a120748910dd85"
 },
 "nbformat": 3,
 "nbformat_minor": 0,
 "worksheets": [
  {
   "cells": [
    {
     "cell_type": "code",
     "collapsed": false,
     "input": [
      "import numpy\n",
      "pi = [0.1,0.1,0.1,0.1,0.1]\n",
      "\n",
      "durationMap = [1,2,3,4,5]\n",
      "n = 5\n",
      "b_map = numpy.loadtxt('/tmp/transMatrix')\n",
      "kappas = []\n",
      "for state in range(n):\n",
      "            \n",
      "            kappaList = []\n",
      "            product = pi[state] \n",
      "            D = durationMap[state]\n",
      "            \n",
      "            for d in range(1,D+1):\n",
      "               product *= b_map[d-1][state]\n",
      "               kappaList.append(product *  getWaitProbability(d, D))\n",
      "            kappas.append(kappaList)\n",
      "            "
     ],
     "language": "python",
     "metadata": {},
     "outputs": [],
     "prompt_number": 20
    },
    {
     "cell_type": "code",
     "collapsed": false,
     "input": [
      " def getWaitProbability(d, D):\n",
      "        '''\n",
      "        return waiting pdf. uses gamma\n",
      "        STUB\n",
      "        '''  \n",
      "        return float(d)/float(D)"
     ],
     "language": "python",
     "metadata": {},
     "outputs": [],
     "prompt_number": 4
    },
    {
     "cell_type": "code",
     "collapsed": false,
     "input": [
      "getWaitProbability(2,3)"
     ],
     "language": "python",
     "metadata": {},
     "outputs": [
      {
       "metadata": {},
       "output_type": "pyout",
       "prompt_number": 5,
       "text": [
        "0.6666666666666666"
       ]
      }
     ],
     "prompt_number": 5
    },
    {
     "cell_type": "code",
     "collapsed": false,
     "input": [
      "b_map[0][0]"
     ],
     "language": "python",
     "metadata": {},
     "outputs": [
      {
       "metadata": {},
       "output_type": "pyout",
       "prompt_number": 14,
       "text": [
        "8.2127143618800003e-31"
       ]
      }
     ],
     "prompt_number": 14
    },
    {
     "cell_type": "code",
     "collapsed": false,
     "input": [
      "class "
     ],
     "language": "python",
     "metadata": {},
     "outputs": [
      {
       "metadata": {},
       "output_type": "pyout",
       "prompt_number": 21,
       "text": [
        "[[8.2127143618800011e-32],\n",
        " [3.6531101680399997e-30, 1.5098723092144771e-58],\n",
        " [1.2176079552199999e-31, 5.883317622644461e-61, 7.1033489725005416e-87],\n",
        " [4.5434706993000007e-30,\n",
        "  2.4082925852098794e-58,\n",
        "  6.2117870898342523e-83,\n",
        "  3.2415303421737642e-115],\n",
        " [5.301116571500001e-31,\n",
        "  4.323816563279384e-60,\n",
        "  1.3851537232450734e-85,\n",
        "  1.1276490220166713e-118,\n",
        "  1.5387872966109801e-150]]"
       ]
      }
     ],
     "prompt_number": 21
    },
    {
     "cell_type": "code",
     "collapsed": false,
     "input": [
      "delta = numpy.zeros((3,2) )"
     ],
     "language": "python",
     "metadata": {},
     "outputs": [],
     "prompt_number": 28
    },
    {
     "cell_type": "code",
     "collapsed": false,
     "input": [
      "b_map"
     ],
     "language": "python",
     "metadata": {},
     "outputs": [
      {
       "metadata": {},
       "output_type": "pyout",
       "prompt_number": 33,
       "text": [
        "array([[  8.21271436e-31,   7.30622034e-29,   3.65282387e-30, ...,\n",
        "          4.95333186e-33,   1.26981085e-34,   4.33321822e-42],\n",
        "       [  3.59957596e-32,   2.06655732e-29,   2.41593265e-30, ...,\n",
        "          1.69894163e-36,   5.24088335e-40,   3.00540111e-55],\n",
        "       [  6.40572744e-27,   1.77742957e-25,   8.04914214e-27, ...,\n",
        "          2.17322843e-30,   5.62508012e-32,   3.59664848e-38],\n",
        "       ..., \n",
        "       [  8.21271436e-31,   7.30622034e-29,   3.65282387e-30, ...,\n",
        "          4.95333186e-33,   1.26981085e-34,   4.33321822e-42],\n",
        "       [  3.59957596e-32,   2.06655732e-29,   2.41593265e-30, ...,\n",
        "          1.69894163e-36,   5.24088335e-40,   3.00540111e-55],\n",
        "       [  6.40572744e-27,   1.77742957e-25,   8.04914214e-27, ...,\n",
        "          2.17322843e-30,   5.62508012e-32,   3.59664848e-38]])"
       ]
      }
     ],
     "prompt_number": 33
    },
    {
     "cell_type": "code",
     "collapsed": false,
     "input": [
      " b_map[2,1:2] = delta[0,:] ="
     ],
     "language": "python",
     "metadata": {},
     "outputs": [],
     "prompt_number": 30
    },
    {
     "cell_type": "code",
     "collapsed": false,
     "input": [
      "b_map[2,:len(delta[0])]= delta[0]"
     ],
     "language": "python",
     "metadata": {},
     "outputs": [],
     "prompt_number": 39
    },
    {
     "cell_type": "code",
     "collapsed": false,
     "input": [
      "b_map"
     ],
     "language": "python",
     "metadata": {},
     "outputs": [
      {
       "metadata": {},
       "output_type": "pyout",
       "prompt_number": 40,
       "text": [
        "array([[  8.21271436e-31,   7.30622034e-29,   3.65282387e-30, ...,\n",
        "          4.95333186e-33,   1.26981085e-34,   4.33321822e-42],\n",
        "       [  3.59957596e-32,   2.06655732e-29,   2.41593265e-30, ...,\n",
        "          1.69894163e-36,   5.24088335e-40,   3.00540111e-55],\n",
        "       [  0.00000000e+00,   0.00000000e+00,   8.04914214e-27, ...,\n",
        "          2.17322843e-30,   5.62508012e-32,   3.59664848e-38],\n",
        "       ..., \n",
        "       [  8.21271436e-31,   7.30622034e-29,   3.65282387e-30, ...,\n",
        "          4.95333186e-33,   1.26981085e-34,   4.33321822e-42],\n",
        "       [  3.59957596e-32,   2.06655732e-29,   2.41593265e-30, ...,\n",
        "          1.69894163e-36,   5.24088335e-40,   3.00540111e-55],\n",
        "       [  6.40572744e-27,   1.77742957e-25,   8.04914214e-27, ...,\n",
        "          2.17322843e-30,   5.62508012e-32,   3.59664848e-38]])"
       ]
      }
     ],
     "prompt_number": 40
    },
    {
     "cell_type": "code",
     "collapsed": false,
     "input": [],
     "language": "python",
     "metadata": {},
     "outputs": []
    }
   ],
   "metadata": {}
  }
 ]
}
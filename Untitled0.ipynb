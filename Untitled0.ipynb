{
 "metadata": {
  "name": "",
  "signature": "sha256:aa20cba3c06d08ba4745d6e288c8d1e40b8196e7a8483942cd6ee01d462474b4"
 },
 "nbformat": 3,
 "nbformat_minor": 0,
 "worksheets": [
  {
   "cells": [
    {
     "cell_type": "code",
     "collapsed": false,
     "input": [
      "def calcNumFrames(phonemeDur, bpm):\n",
      "    \n",
      "    MINIMAL_UNIT = 64\n",
      "    HOPTIME = 0.01\n",
      "    durationMinUnit = (1. / (bpm/60) ) * (1. / MINIMAL_UNIT) \n",
      "    numFramesPerSecond = 1/HOPTIME\n",
      "    numFramesPerMinUnit = numFramesPerSecond * durationMinUnit\n",
      "\n",
      "    # numFrames per phoneme\n",
      "    phonemeDurFrames = round(phonemeDur * numFramesPerMinUnit)\n",
      "    return phonemeDurFrames"
     ],
     "language": "python",
     "metadata": {},
     "outputs": [],
     "prompt_number": 17
    },
    {
     "cell_type": "code",
     "collapsed": false,
     "input": [
      "\n",
      "bpm = 120\n",
      "# in MIN units\n",
      "phonemeDur = 32\n",
      "print calcNumFrames(phonemeDur, bpm)"
     ],
     "language": "python",
     "metadata": {},
     "outputs": [
      {
       "output_type": "stream",
       "stream": "stdout",
       "text": [
        "25.0\n"
       ]
      }
     ],
     "prompt_number": 18
    },
    {
     "cell_type": "code",
     "collapsed": false,
     "input": [
      "numFramesPerSecond = 1/HOPTIME\n"
     ],
     "language": "python",
     "metadata": {},
     "outputs": [],
     "prompt_number": 9
    },
    {
     "cell_type": "code",
     "collapsed": false,
     "input": [
      "numFramesPerMinUnit = numFramesPerSecond * durationMinUnit"
     ],
     "language": "python",
     "metadata": {},
     "outputs": [],
     "prompt_number": 10
    },
    {
     "cell_type": "code",
     "collapsed": false,
     "input": [
      "final"
     ],
     "language": "python",
     "metadata": {},
     "outputs": []
    }
   ],
   "metadata": {}
  }
 ]
}
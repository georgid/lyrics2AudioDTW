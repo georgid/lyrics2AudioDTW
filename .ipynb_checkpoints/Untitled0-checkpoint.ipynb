{
 "metadata": {
  "name": "",
  "signature": "sha256:417b70c4691b27decbd21126298b887931bdcf6548349abc10bd607f7d27480d"
 },
 "nbformat": 3,
 "nbformat_minor": 0,
 "worksheets": [
  {
   "cells": [
    {
     "cell_type": "code",
     "collapsed": false,
     "input": [
      "def calcNumFrames(phonemeDur, bpm)\n",
      "\n",
      "    MINIMAL_UNIT = 64\n",
      "    HOPTIME = 0.01\n",
      "    durationMinUnit = (1. / (bpm/60) ) * (1. / MINIMAL_UNIT) \n",
      "    numFramesPerSecond = 1/HOPTIME\n",
      "    numFramesPerMinUnit = numFramesPerSecond * durationMinUnit\n",
      "\n",
      "    # numFrames per phoneme\n",
      "    phonemeDurFrames = round(phonemeDur * numFramesPerMinUnit)\n",
      "    return phonemeDurFrames"
     ],
     "language": "python",
     "metadata": {},
     "outputs": [
      {
       "ename": "SyntaxError",
       "evalue": "invalid syntax (<ipython-input-15-fbb993b50e32>, line 1)",
       "output_type": "pyerr",
       "traceback": [
        "\u001b[0;36m  File \u001b[0;32m\"<ipython-input-15-fbb993b50e32>\"\u001b[0;36m, line \u001b[0;32m1\u001b[0m\n\u001b[0;31m    def calcNumFrames(phonemeDur, bpm)\u001b[0m\n\u001b[0m                                      ^\u001b[0m\n\u001b[0;31mSyntaxError\u001b[0m\u001b[0;31m:\u001b[0m invalid syntax\n"
       ]
      }
     ],
     "prompt_number": 15
    },
    {
     "cell_type": "code",
     "collapsed": false,
     "input": [
      "phonemeDurFrames"
     ],
     "language": "python",
     "metadata": {},
     "outputs": [
      {
       "metadata": {},
       "output_type": "pyout",
       "prompt_number": 14,
       "text": [
        "25.0"
       ]
      }
     ],
     "prompt_number": 14
    },
    {
     "cell_type": "code",
     "collapsed": false,
     "input": [
      "numFramesPerSecond = 1/HOPTIME\n"
     ],
     "language": "python",
     "metadata": {},
     "outputs": [],
     "prompt_number": 9
    },
    {
     "cell_type": "code",
     "collapsed": false,
     "input": [
      "numFramesPerMinUnit = numFramesPerSecond * durationMinUnit"
     ],
     "language": "python",
     "metadata": {},
     "outputs": [],
     "prompt_number": 10
    },
    {
     "cell_type": "code",
     "collapsed": false,
     "input": [
      "final"
     ],
     "language": "python",
     "metadata": {},
     "outputs": []
    }
   ],
   "metadata": {}
  }
 ]
}